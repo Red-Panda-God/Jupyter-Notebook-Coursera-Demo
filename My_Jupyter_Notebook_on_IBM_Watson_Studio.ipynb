{
  "metadata": {
    "language_info": {
      "codemirror_mode": {
        "name": "python",
        "version": 3
      },
      "file_extension": ".py",
      "mimetype": "text/x-python",
      "name": "python",
      "nbconvert_exporter": "python",
      "pygments_lexer": "ipython3",
      "version": "3.8"
    },
    "kernelspec": {
      "name": "python",
      "display_name": "Python (Pyodide)",
      "language": "python"
    }
  },
  "nbformat_minor": 4,
  "nbformat": 4,
  "cells": [
    {
      "cell_type": "markdown",
      "source": "# My Jupyter Notebook on IBM Watson Studio",
      "metadata": {}
    },
    {
      "cell_type": "markdown",
      "source": "## **Justin**\n### Current Postion- Product Engineering Technician",
      "metadata": {}
    },
    {
      "cell_type": "markdown",
      "source": "### *I am interested in data science because I want to understand different methods of breaking down and categorizing data. I also want to learn about programing and the professional uses of AI, ML, and DL.*",
      "metadata": {}
    },
    {
      "cell_type": "markdown",
      "source": "### In my next cell I am displaying a math problem using simple addition and subtraction.",
      "metadata": {}
    },
    {
      "cell_type": "code",
      "source": "1+1-3",
      "metadata": {
        "trusted": true
      },
      "execution_count": 5,
      "outputs": [
        {
          "execution_count": 5,
          "output_type": "execute_result",
          "data": {
            "text/plain": "-1"
          },
          "metadata": {}
        }
      ]
    },
    {
      "cell_type": "markdown",
      "source": "**Test Table**     |**Try 1**     |**Try 2**    |\n-------------------|:------------:|------------:|\n*Try 1*            |*1*           |*2*          |\n*Try 2*            |*1*           |*2*          |\n___________________|______________|_____________|\n-------------------|--------------|-------------|\n*******************|**************|*************|\n\n>This is a test of the Blockquotes from the \n>GitHUb Cheat sheet\n>that we were given in one of our weeks lessons.\n\n~~GitHub Cheat Sheet~~",
      "metadata": {}
    },
    {
      "cell_type": "code",
      "source": "",
      "metadata": {},
      "execution_count": null,
      "outputs": []
    }
  ]
}