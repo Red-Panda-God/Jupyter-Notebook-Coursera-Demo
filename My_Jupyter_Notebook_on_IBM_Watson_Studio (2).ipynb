{
 "cells": [
  {
   "cell_type": "markdown",
   "id": "e7ff51c2-f5b5-4369-b719-3b01d80214ea",
   "metadata": {},
   "source": [
    "# My Jupyter Notebook on IBM Watson Studio"
   ]
  },
  {
   "cell_type": "markdown",
   "id": "8c05a8e2-453c-4cf0-880a-a98539296c3b",
   "metadata": {},
   "source": [
    "## **Justin**\n",
    "### Current Position- Product Engineering Technician"
   ]
  },
  {
   "cell_type": "markdown",
   "id": "11720c0e-80fc-4863-9828-6d8e19d11e89",
   "metadata": {},
   "source": [
    "### *I am interested in data science because I want to understand different methods of breaking down and categorizing data. I also want to learn about programing and the professional uses of AI, ML, and DL.*"
   ]
  },
  {
   "cell_type": "markdown",
   "id": "518759c8-786f-481e-aecc-957891a7c0bc",
   "metadata": {},
   "source": [
    "### In my next cell I am displaying a math problem using simple addition and subtraction."
   ]
  },
  {
   "cell_type": "code",
   "execution_count": 1,
   "id": "ebf919a5-25b1-4955-a305-8c2fabfef503",
   "metadata": {},
   "outputs": [
    {
     "data": {
      "text/plain": [
       "-1"
      ]
     },
     "execution_count": 1,
     "metadata": {},
     "output_type": "execute_result"
    }
   ],
   "source": [
    "1+1-3"
   ]
  },
  {
   "cell_type": "markdown",
   "id": "3f02e11f-f962-4277-ae57-89c7b9182af5",
   "metadata": {},
   "source": [
    "**Test Table**     |**Try 1**     |**Try 2**    |\n",
    "-------------------|:------------:|------------:|\n",
    "*Try 1*            |*1*           |*2*          |\n",
    "*Try 2*            |*1*           |*2*          |\n",
    "___________________|______________|_____________|\n",
    "-------------------|--------------|-------------|\n",
    "*******************|**************|*************|\n",
    "\n",
    ">This is a test of the Blockquotes from the \n",
    ">GitHUb Cheat sheet\n",
    ">that we were given in one of our weeks lessons.\n",
    "\n",
    "~~GitHub Cheat Sheet~~"
   ]
  }
 ],
 "metadata": {
  "kernelspec": {
   "display_name": "Python",
   "language": "python",
   "name": "conda-env-python-py"
  },
  "language_info": {
   "codemirror_mode": {
    "name": "ipython",
    "version": 3
   },
   "file_extension": ".py",
   "mimetype": "text/x-python",
   "name": "python",
   "nbconvert_exporter": "python",
   "pygments_lexer": "ipython3",
   "version": "3.7.12"
  }
 },
 "nbformat": 4,
 "nbformat_minor": 5
}
